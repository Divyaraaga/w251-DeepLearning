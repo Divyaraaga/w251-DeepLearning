{
 "cells": [
  {
   "cell_type": "markdown",
   "metadata": {},
   "source": [
    "## Homework 04\n",
    "  \n",
    "The [Conversation AI](https://conversationai.github.io/) team, a research initiative founded by [Jigsaw](https://jigsaw.google.com/) and Google (both a part of Alphabet) are working on tools to help improve online conversation. One area of focus is the study of negative online behaviors, like toxic comments (i.e. comments that are rude, disrespectful or otherwise likely to make someone leave a discussion).   \n",
    "  \n",
    "Kaggle are currently hosting their [second competition](https://www.kaggle.com/c/jigsaw-toxic-comment-classification-challenge#description) on this research. The challenge is to create a model that is capable of detecting different types of of toxicity like threats, obscenity, insults, and identity-based hate better than Perspective’s current models. The competitions use a dataset of comments from Wikipedia’s talk page edits. Improvements to the current model will hopefully help online discussion become more productive and respectful.\n",
    "\n",
    "We shall be using this dataset to benchmark a number of ML models. While the focus of the current competition is to mitigate bias, we will not be using the metric used in the competition. Instead we will be focusing on a simpler metric [Area under the Curve (or AUC)](https://www.kaggle.com/learn-forum/53782) which is suitable to unbalanced binary datasets. Also, we shall not consider different levels of Toxicity; we shall purely take anything marked over the 0.5 level in the measured toxicity range as toxic, and anything underneath as non-toxic. \n",
    "\n",
    "We have created a jupyter notbook with some of the tools to model this problem in Deep Learning, using Logistic regression and MLP. Your challenge will be to fill in the models and benchmark the AUC you achieve on these models.\n",
    "\n",
    "We shall be using the keras deep learning package. As you may know, this is an API into DL frameworks, but is most commonly backed by Tensorflow. [keras.io](keras.io) is a great source for documentation and examples on layers available andn functionality. \n",
    "\n",
    "**Have fun!!**\n",
    "\n",
    "\n",
    "*Disclaimer: the dataset used contains text that may be considered profane, vulgar, or offensive.*"
   ]
  },
  {
   "cell_type": "markdown",
   "metadata": {},
   "source": [
    "### Set up packages"
   ]
  },
  {
   "cell_type": "code",
   "execution_count": 1,
   "metadata": {},
   "outputs": [
    {
     "name": "stderr",
     "output_type": "stream",
     "text": [
      "Using TensorFlow backend.\n"
     ]
    }
   ],
   "source": [
    "import os\n",
    "import tensorflow as tf\n",
    "import keras\n",
    "sess = tf.Session(config=tf.ConfigProto(log_device_placement=True))\n",
    "import pandas as pd\n",
    "import numpy as np\n",
    "\n",
    "from sklearn.linear_model import LogisticRegression\n",
    "from sklearn.feature_extraction.text import CountVectorizer \n",
    "from sklearn.model_selection import KFold\n",
    "from sklearn.metrics import roc_auc_score"
   ]
  },
  {
   "cell_type": "markdown",
   "metadata": {},
   "source": [
    "### Load data\n",
    "Let's load our data and take a peak.   \n",
    "The competition metrics and fields have too much detail too cover here.   \n",
    "We will just focus on the comment of the users and whether it was deemed toxic (target>0.5) or not.    "
   ]
  },
  {
   "cell_type": "code",
   "execution_count": 2,
   "metadata": {},
   "outputs": [
    {
     "data": {
      "text/plain": [
       "['.ipynb_checkpoints', 'w251_homework04.ipynb', 'v2', 'train.csv.zip']"
      ]
     },
     "execution_count": 2,
     "metadata": {},
     "output_type": "execute_result"
    }
   ],
   "source": [
    "# Lets look at what files we have available. \n",
    "os.listdir()"
   ]
  },
  {
   "cell_type": "code",
   "execution_count": 3,
   "metadata": {},
   "outputs": [
    {
     "name": "stdout",
     "output_type": "stream",
     "text": [
      "Dataframe Number of (rows, columns) : (1804874, 2)\n"
     ]
    }
   ],
   "source": [
    "train_df = pd.read_csv('train.csv.zip', \n",
    "                       dtype={'comment_text':str},\n",
    "                       usecols=['comment_text', 'target'],\n",
    "                       compression = 'zip')\n",
    "train_df['target'] = (train_df['target']>0.5).astype(int)\n",
    "print(\"Dataframe Number of (rows, columns) : {}\".format(train_df.shape))"
   ]
  },
  {
   "cell_type": "code",
   "execution_count": 4,
   "metadata": {},
   "outputs": [
    {
     "data": {
      "text/html": [
       "<div>\n",
       "<style scoped>\n",
       "    .dataframe tbody tr th:only-of-type {\n",
       "        vertical-align: middle;\n",
       "    }\n",
       "\n",
       "    .dataframe tbody tr th {\n",
       "        vertical-align: top;\n",
       "    }\n",
       "\n",
       "    .dataframe thead th {\n",
       "        text-align: right;\n",
       "    }\n",
       "</style>\n",
       "<table border=\"1\" class=\"dataframe\">\n",
       "  <thead>\n",
       "    <tr style=\"text-align: right;\">\n",
       "      <th></th>\n",
       "      <th>target</th>\n",
       "      <th>comment_text</th>\n",
       "    </tr>\n",
       "  </thead>\n",
       "  <tbody>\n",
       "    <tr>\n",
       "      <th>0</th>\n",
       "      <td>0</td>\n",
       "      <td>This is so cool. It's like, 'would you want your mother to read this??' Really great idea, well done!</td>\n",
       "    </tr>\n",
       "    <tr>\n",
       "      <th>1</th>\n",
       "      <td>0</td>\n",
       "      <td>Thank you!! This would make my life a lot less anxiety-inducing. Keep it up, and don't let anyone get in your way!</td>\n",
       "    </tr>\n",
       "    <tr>\n",
       "      <th>2</th>\n",
       "      <td>0</td>\n",
       "      <td>This is such an urgent design problem; kudos to you for taking it on. Very impressive!</td>\n",
       "    </tr>\n",
       "    <tr>\n",
       "      <th>3</th>\n",
       "      <td>0</td>\n",
       "      <td>Is this something I'll be able to install on my site? When will you be releasing it?</td>\n",
       "    </tr>\n",
       "    <tr>\n",
       "      <th>4</th>\n",
       "      <td>1</td>\n",
       "      <td>haha you guys are a bunch of losers.</td>\n",
       "    </tr>\n",
       "    <tr>\n",
       "      <th>5</th>\n",
       "      <td>1</td>\n",
       "      <td>ur a sh*tty comment.</td>\n",
       "    </tr>\n",
       "    <tr>\n",
       "      <th>6</th>\n",
       "      <td>0</td>\n",
       "      <td>hahahahahahahahhha suck it.</td>\n",
       "    </tr>\n",
       "    <tr>\n",
       "      <th>7</th>\n",
       "      <td>0</td>\n",
       "      <td>FFFFUUUUUUUUUUUUUUU</td>\n",
       "    </tr>\n",
       "    <tr>\n",
       "      <th>8</th>\n",
       "      <td>0</td>\n",
       "      <td>The ranchers seem motivated by mostly by greed; no one should have the right to allow their animals destroy public land.</td>\n",
       "    </tr>\n",
       "    <tr>\n",
       "      <th>9</th>\n",
       "      <td>0</td>\n",
       "      <td>It was a great show. Not a combo I'd of expected to be good together but it was.</td>\n",
       "    </tr>\n",
       "  </tbody>\n",
       "</table>\n",
       "</div>"
      ],
      "text/plain": [
       "   target  \\\n",
       "0       0   \n",
       "1       0   \n",
       "2       0   \n",
       "3       0   \n",
       "4       1   \n",
       "5       1   \n",
       "6       0   \n",
       "7       0   \n",
       "8       0   \n",
       "9       0   \n",
       "\n",
       "                                                                                                               comment_text  \n",
       "0                     This is so cool. It's like, 'would you want your mother to read this??' Really great idea, well done!  \n",
       "1        Thank you!! This would make my life a lot less anxiety-inducing. Keep it up, and don't let anyone get in your way!  \n",
       "2                                    This is such an urgent design problem; kudos to you for taking it on. Very impressive!  \n",
       "3                                      Is this something I'll be able to install on my site? When will you be releasing it?  \n",
       "4                                                                                      haha you guys are a bunch of losers.  \n",
       "5                                                                                                      ur a sh*tty comment.  \n",
       "6                                                                                               hahahahahahahahhha suck it.  \n",
       "7                                                                                                       FFFFUUUUUUUUUUUUUUU  \n",
       "8  The ranchers seem motivated by mostly by greed; no one should have the right to allow their animals destroy public land.  \n",
       "9                                          It was a great show. Not a combo I'd of expected to be good together but it was.  "
      ]
     },
     "execution_count": 4,
     "metadata": {},
     "output_type": "execute_result"
    }
   ],
   "source": [
    "pd.options.display.max_colwidth = 200\n",
    "train_df.head(10)"
   ]
  },
  {
   "cell_type": "markdown",
   "metadata": {},
   "source": [
    "### Create validation data set\n",
    "Lets randomly 66/33 split the data into a training and validation set.   \n",
    "<font color='blue'>**No change needed here - note, please do not change the KFold split parameters, keeping it consistent will help us debug.**</font>"
   ]
  },
  {
   "cell_type": "code",
   "execution_count": 6,
   "metadata": {},
   "outputs": [],
   "source": [
    "cv = KFold(n_splits=3, shuffle=True, random_state=42)\n",
    "trn_ids, val_ids = next(cv.split(train_df))\n",
    "x_train, x_valid = train_df['comment_text'][trn_ids], train_df['comment_text'][val_ids]\n",
    "y_train, y_valid = train_df['target'].values[trn_ids], train_df['target'].values[val_ids]"
   ]
  },
  {
   "cell_type": "markdown",
   "metadata": {},
   "source": [
    "### Vectorize Count of tokens"
   ]
  },
  {
   "cell_type": "markdown",
   "metadata": {},
   "source": [
    "![Count Vectorizer](https://cdn-images-1.medium.com/max/1600/1*LD5XaHzOnoniU4p137FL5g.jpeg)  \n",
    "We shall start off performing some CPU based Deep Learning operations. Sparse matrices are better run on CPU.   \n",
    "Do not underestimate CPU based Deep Learning such as MLP; this can be very powerful and outperform complex much more complex DL models.   \n",
    "Here we create a sparse matrix from the text, with 200K of the most common unigram and bigrams.  \n",
    "<font color='blue'>\n",
    "**You task here is to convert the collection of text documents (found in the `comment_text` field) to a matrix of token counts.  \n",
    "This can be done using the [CountVectorizer](https://scikit-learn.org/stable/modules/generated/sklearn.feature_extraction.text.CountVectorizer.html) in scikit_learn.  \n",
    "After creating the vecotrizer, fit it based on the train matrix `x_train` and use this vectorizer to transform both the `x_train` and `x_valid` sets.   \n",
    "Create sparse matrices called `X_trn_mat` and `X_val_mat`, and please call your vectorizer: `vectorizer`.  \n",
    "Use the parameters max features = 200000 and the token pattern `\\w+`. This token pattern matches one or more word characters (same as `[a-zA-Z0-9_]`) only. all other characters are stripped.\n",
    "Also, we would like to count both unigrams and bigrams (pairs of words), so set the ngram range to `(1,2)`**\n",
    "    </font>"
   ]
  },
  {
   "cell_type": "code",
   "execution_count": 14,
   "metadata": {},
   "outputs": [],
   "source": [
    "#>>>>>>>>>>>>>>>>>>>>>>>>>>>>>>>>>>>>>>>>>>>>>\n",
    "# Create a CountVectorizer, called `vectorizer`\n",
    "# And create sparse matrices X_trn_mat & X_val_mat\n",
    "\n",
    "vectorizer = CountVectorizer(max_features=200000, analyzer='word', token_pattern='\\w+', ngram_range=(1, 2))\n",
    "X_trn_mat = vectorizer.fit_transform(x_train)\n",
    "X_val_mat = vectorizer.transform(x_valid)\n",
    "\n",
    "#<<<<<<<<<<<<<<<<<<<<<<<<<<<<<<<<<<<<<<<<<<<<<<"
   ]
  },
  {
   "cell_type": "code",
   "execution_count": 15,
   "metadata": {},
   "outputs": [
    {
     "name": "stdout",
     "output_type": "stream",
     "text": [
      "['0', '0 0', '0 00', '0 01', '0 05', '0 1', '0 2', '0 25', '0 3', '0 4']\n",
      "['make more', 'make most', 'make much', 'make my', 'make new', 'make no', 'make noise', 'make obama', 'make of', 'make on']\n"
     ]
    }
   ],
   "source": [
    "print(vectorizer.get_feature_names()[:10])\n",
    "print(vectorizer.get_feature_names()[100000:100000+10])"
   ]
  },
  {
   "cell_type": "code",
   "execution_count": 16,
   "metadata": {},
   "outputs": [
    {
     "data": {
      "text/plain": [
       "<1203249x200000 sparse matrix of type '<class 'numpy.int64'>'\n",
       "\twith 89432534 stored elements in Compressed Sparse Row format>"
      ]
     },
     "execution_count": 16,
     "metadata": {},
     "output_type": "execute_result"
    }
   ],
   "source": [
    "X_trn_mat"
   ]
  },
  {
   "cell_type": "markdown",
   "metadata": {},
   "source": [
    "### Logistic Regression\n",
    "\n",
    "![Logistic Regression](https://upload.wikimedia.org/wikipedia/commons/6/6d/Exam_pass_logistic_curve.jpeg)\n",
    "  \n",
    "Lets start off with a simple Logistic Regression, which is the very basic [sigmoid activation function](https://en.wikipedia.org/wiki/Sigmoid_function) used in DL.  \n",
    "Notice we have no hidden layers, we take as input the whole sparse matrix, and as output the binary classifier prediction (`0<=output<=1`).  \n",
    "The model has 200001 parameters. One coefficient per column in the sparse matrx, plus one bias variable - each of which is learned using gradient descent. \n"
   ]
  },
  {
   "cell_type": "code",
   "execution_count": 17,
   "metadata": {},
   "outputs": [
    {
     "name": "stdout",
     "output_type": "stream",
     "text": [
      "_________________________________________________________________\n",
      "Layer (type)                 Output Shape              Param #   \n",
      "=================================================================\n",
      "input_2 (InputLayer)         (None, 200000)            0         \n",
      "_________________________________________________________________\n",
      "dense_2 (Dense)              (None, 1)                 200001    \n",
      "=================================================================\n",
      "Total params: 200,001\n",
      "Trainable params: 200,001\n",
      "Non-trainable params: 0\n",
      "_________________________________________________________________\n"
     ]
    }
   ],
   "source": [
    "model_in = keras.Input(shape=(X_trn_mat.shape[1],), dtype='float32', sparse=True)\n",
    "out = keras.layers.Dense(1, activation='sigmoid')(model_in)\n",
    "model = keras.Model(inputs=model_in, outputs=out)\n",
    "model.compile(loss='binary_crossentropy', optimizer=keras.optimizers.Adam(lr=1e-2))\n",
    "model.summary()"
   ]
  },
  {
   "cell_type": "code",
   "execution_count": 18,
   "metadata": {},
   "outputs": [
    {
     "name": "stdout",
     "output_type": "stream",
     "text": [
      "Train on 1203249 samples, validate on 601625 samples\n",
      "Epoch 1/2\n",
      "1203249/1203249 [==============================] - 15s 13us/step - loss: 0.2406 - val_loss: 0.1773\n",
      "Epoch 2/2\n",
      "1203249/1203249 [==============================] - 15s 12us/step - loss: 0.1326 - val_loss: 0.1490\n"
     ]
    },
    {
     "data": {
      "text/plain": [
       "<keras.callbacks.History at 0x7fc3139f3080>"
      ]
     },
     "execution_count": 18,
     "metadata": {},
     "output_type": "execute_result"
    }
   ],
   "source": [
    "model.fit(X_trn_mat, y_train, epochs=2, batch_size=2**13, validation_data=(X_val_mat, y_valid))"
   ]
  },
  {
   "cell_type": "code",
   "execution_count": 19,
   "metadata": {},
   "outputs": [
    {
     "name": "stdout",
     "output_type": "stream",
     "text": [
      "AUC score : 0.88465\n"
     ]
    }
   ],
   "source": [
    "preds_lr = model.predict(X_val_mat).flatten()\n",
    "print('AUC score : {:.5f}'.format(roc_auc_score(y_valid, preds_lr)))"
   ]
  },
  {
   "cell_type": "markdown",
   "metadata": {},
   "source": [
    "Looks at the coefficients to see which words are driving toxic and non-toxic sentences. "
   ]
  },
  {
   "cell_type": "code",
   "execution_count": 20,
   "metadata": {},
   "outputs": [
    {
     "name": "stdout",
     "output_type": "stream",
     "text": [
      "Top toxic tokens : \n",
      "['shit', 'morons', 'hypocrite', 'crap', 'pathetic', 'stupid', 'stupidity', 'idiot', 'idiots', 'idiotic']\n",
      "\n",
      "Top non-toxic tokens : \n",
      "['well said', 'yes just', 'amen', 'bingo', 'provide them', 'by illegal', 'old joke', 'mmm', 'underscores', 'comcast']\n"
     ]
    }
   ],
   "source": [
    "feats = np.array(vectorizer.get_feature_names())\n",
    "importance_index = model.get_weights()[0].flatten().argsort()\n",
    "print('Top toxic tokens : \\n{}'.format(feats[importance_index[-10:]].tolist()))\n",
    "print('\\nTop non-toxic tokens : \\n{}'.format(feats[importance_index[:10]].tolist()))"
   ]
  },
  {
   "cell_type": "markdown",
   "metadata": {},
   "source": [
    "### MLP"
   ]
  },
  {
   "cell_type": "markdown",
   "metadata": {},
   "source": [
    "![MLP](https://www.researchgate.net/profile/Mouhammd_Alkasassbeh/publication/309592737/figure/fig2/AS:423712664100865@1478032379613/MultiLayer-Perceptron-MLP-sturcture-334-MultiLayer-Perceptron-Classifier-MultiLayer.png)\n",
    "\n",
    "Here we shall create a Multi layer perceptron. Although relatively simple, these can be very poswerful models and useful when compute power is low. \n",
    "<font color='blue'>**Please add three hidden layers to the network using a `relu` activation function.  \n",
    "You can refer to this [script](https://www.kaggle.com/lopuhin/mercari-golf-0-3875-cv-in-75-loc-1900-s) which was an MLP taking first place to win the *Mercari Price Suggestion Challenge*. However note, you can do this task by only adding three or four lines. You should a large increace in performance over the Logistic Regression.**</font>  \n",
    "Never underestimate the power of an MLP!!"
   ]
  },
  {
   "cell_type": "code",
   "execution_count": 21,
   "metadata": {},
   "outputs": [
    {
     "name": "stdout",
     "output_type": "stream",
     "text": [
      "_________________________________________________________________\n",
      "Layer (type)                 Output Shape              Param #   \n",
      "=================================================================\n",
      "input_3 (InputLayer)         (None, 200000)            0         \n",
      "_________________________________________________________________\n",
      "dense_3 (Dense)              (None, 192)               38400192  \n",
      "_________________________________________________________________\n",
      "dense_4 (Dense)              (None, 64)                12352     \n",
      "_________________________________________________________________\n",
      "dense_5 (Dense)              (None, 64)                4160      \n",
      "_________________________________________________________________\n",
      "dense_6 (Dense)              (None, 1)                 65        \n",
      "=================================================================\n",
      "Total params: 38,416,769\n",
      "Trainable params: 38,416,769\n",
      "Non-trainable params: 0\n",
      "_________________________________________________________________\n"
     ]
    }
   ],
   "source": [
    "model_in = keras.Input(shape=(X_trn_mat.shape[1],), dtype='float32', sparse=True)\n",
    "#>>>>>>>>>>>>>>>>>>>>>>>>>>>>>>>>>>>>>>>>>>>>>\n",
    "# Please fill in the next lines with the three hidden layers and the output layer. \n",
    "\n",
    "out = keras.layers.Dense(3, activation='relu')(model_in)\n",
    "out = keras.layers.Dense(3, activation='relu')(out)\n",
    "out = keras.layers.Dense(2, activation='relu')(out)\n",
    "out = keras.layers.Dense(1)(out)\n",
    "#<<<<<<<<<<<<<<<<<<<<<<<<<<<<<<<<<<<<<<<<<<<<<<\n",
    "\n",
    "model = keras.Model(inputs=model_in, outputs=out)\n",
    "model.compile(loss='binary_crossentropy', optimizer=keras.optimizers.Adam(lr=1e-3))\n",
    "model.summary()"
   ]
  },
  {
   "cell_type": "code",
   "execution_count": 22,
   "metadata": {},
   "outputs": [
    {
     "name": "stdout",
     "output_type": "stream",
     "text": [
      "Train on 1203249 samples, validate on 601625 samples\n",
      "Epoch 1/2\n",
      "1203249/1203249 [==============================] - 140s 116us/step - loss: 0.1871 - val_loss: 0.1491\n",
      "Epoch 2/2\n",
      "1203249/1203249 [==============================] - 136s 113us/step - loss: 0.1075 - val_loss: 0.1781\n"
     ]
    }
   ],
   "source": [
    "model.fit(X_trn_mat, y_train, batch_size=2**13, epochs=2, verbose=1, validation_data=(X_val_mat, y_valid))\n",
    "preds_mlp = model.predict(X_val_mat).flatten()"
   ]
  },
  {
   "cell_type": "code",
   "execution_count": 23,
   "metadata": {},
   "outputs": [
    {
     "name": "stdout",
     "output_type": "stream",
     "text": [
      "AUC score : 0.87475\n"
     ]
    }
   ],
   "source": [
    "print('AUC score : {:.5f}'.format(roc_auc_score(y_valid, preds_mlp)))"
   ]
  },
  {
   "cell_type": "markdown",
   "metadata": {},
   "source": [
    "### MLP with regularisation"
   ]
  },
  {
   "cell_type": "markdown",
   "metadata": {},
   "source": [
    "Now lets try regularisation.  \n",
    "<font color='blue'>**Copy the above MLP model and create a new one adding regularisation.  \n",
    "    Add l2 regularisation to each of the dense layers. Check on [keras.io](keras.io) to find details on how to add l2 regularisation. Play are around with different level of regularisation to see when you achieve optimal results.   \n",
    "Generally it is good to choose parameters like this by using different factors of `10`.  \n",
    "Can you improve on you previous AUC results by using reglarisation?**</font>"
   ]
  },
  {
   "cell_type": "code",
   "execution_count": 24,
   "metadata": {},
   "outputs": [
    {
     "name": "stdout",
     "output_type": "stream",
     "text": [
      "_________________________________________________________________\n",
      "Layer (type)                 Output Shape              Param #   \n",
      "=================================================================\n",
      "input_4 (InputLayer)         (None, 200000)            0         \n",
      "_________________________________________________________________\n",
      "dense_7 (Dense)              (None, 192)               38400192  \n",
      "_________________________________________________________________\n",
      "dense_8 (Dense)              (None, 64)                12352     \n",
      "_________________________________________________________________\n",
      "dense_9 (Dense)              (None, 64)                4160      \n",
      "_________________________________________________________________\n",
      "dense_10 (Dense)             (None, 1)                 65        \n",
      "=================================================================\n",
      "Total params: 38,416,769\n",
      "Trainable params: 38,416,769\n",
      "Non-trainable params: 0\n",
      "_________________________________________________________________\n"
     ]
    }
   ],
   "source": [
    "model_in = keras.Input(shape=(X_trn_mat.shape[1],), dtype='float32', sparse=True)\n",
    "#>>>>>>>>>>>>>>>>>>>>>>>>>>>>>>>>>>>>>>>>>>>>>\n",
    "# Please fill in the next lines with the three hidden layers and the output layer. \n",
    "\n",
    "out = keras.layers.Dense(3, activation='relu',kernel_regularizer= keras.regularizers.l2(0.01))(model_in)\n",
    "out = keras.layers.Dense(3, activation='relu',kernel_regularizer= keras.regularizers.l2(0.01))(out)\n",
    "out = keras.layers.Dense(2, activation='relu',kernel_regularizer= keras.regularizers.l2(0.01))(out)\n",
    "out = keras.layers.Dense(1)(out)\n",
    "#<<<<<<<<<<<<<<<<<<<<<<<<<<<<<<<<<<<<<<<<<<<<<<\n",
    "\n",
    "model = keras.Model(inputs=model_in, outputs=out)\n",
    "model.compile(loss='binary_crossentropy', optimizer=keras.optimizers.Adam(lr=1e-3))\n",
    "model.summary()"
   ]
  },
  {
   "cell_type": "code",
   "execution_count": 25,
   "metadata": {},
   "outputs": [
    {
     "name": "stdout",
     "output_type": "stream",
     "text": [
      "Train on 1203249 samples, validate on 601625 samples\n",
      "Epoch 1/2\n",
      "1203249/1203249 [==============================] - 159s 132us/step - loss: 1.1153 - val_loss: 0.5191\n",
      "Epoch 2/2\n",
      "1203249/1203249 [==============================] - 148s 123us/step - loss: 0.3822 - val_loss: 0.3123\n"
     ]
    }
   ],
   "source": [
    "model.fit(X_trn_mat, y_train, batch_size=2**13, epochs=2, verbose=1, validation_data=(X_val_mat, y_valid))\n",
    "preds_mlp = model.predict(X_val_mat).flatten()"
   ]
  },
  {
   "cell_type": "code",
   "execution_count": 26,
   "metadata": {},
   "outputs": [
    {
     "name": "stdout",
     "output_type": "stream",
     "text": [
      "AUC score : 0.87011\n"
     ]
    }
   ],
   "source": [
    "print('AUC score : {:.5f}'.format(roc_auc_score(y_valid, preds_mlp)))"
   ]
  },
  {
   "cell_type": "code",
   "execution_count": 27,
   "metadata": {},
   "outputs": [
    {
     "name": "stdout",
     "output_type": "stream",
     "text": [
      "_________________________________________________________________\n",
      "Layer (type)                 Output Shape              Param #   \n",
      "=================================================================\n",
      "input_5 (InputLayer)         (None, 200000)            0         \n",
      "_________________________________________________________________\n",
      "dense_11 (Dense)             (None, 192)               38400192  \n",
      "_________________________________________________________________\n",
      "dense_12 (Dense)             (None, 64)                12352     \n",
      "_________________________________________________________________\n",
      "dense_13 (Dense)             (None, 64)                4160      \n",
      "_________________________________________________________________\n",
      "dense_14 (Dense)             (None, 1)                 65        \n",
      "=================================================================\n",
      "Total params: 38,416,769\n",
      "Trainable params: 38,416,769\n",
      "Non-trainable params: 0\n",
      "_________________________________________________________________\n",
      "Train on 1203249 samples, validate on 601625 samples\n",
      "Epoch 1/2\n",
      "1203249/1203249 [==============================] - 158s 131us/step - loss: 0.7252 - val_loss: 0.4223\n",
      "Epoch 2/2\n",
      "1203249/1203249 [==============================] - 149s 124us/step - loss: 0.3579 - val_loss: 0.3211\n",
      "AUC score : 0.90840\n"
     ]
    }
   ],
   "source": [
    "model_in = keras.Input(shape=(X_trn_mat.shape[1],), dtype='float32', sparse=True)\n",
    "#>>>>>>>>>>>>>>>>>>>>>>>>>>>>>>>>>>>>>>>>>>>>>\n",
    "# Please fill in the next lines with the three hidden layers and the output layer. \n",
    "\n",
    "out = keras.layers.Dense(3, activation='relu',kernel_regularizer= keras.regularizers.l2(0.005))(model_in)\n",
    "out = keras.layers.Dense(3, activation='relu',kernel_regularizer= keras.regularizers.l2(0.005))(out)\n",
    "out = keras.layers.Dense(2, activation='relu',kernel_regularizer= keras.regularizers.l2(0.005))(out)\n",
    "out = keras.layers.Dense(1)(out)\n",
    "#<<<<<<<<<<<<<<<<<<<<<<<<<<<<<<<<<<<<<<<<<<<<<<\n",
    "\n",
    "model = keras.Model(inputs=model_in, outputs=out)\n",
    "model.compile(loss='binary_crossentropy', optimizer=keras.optimizers.Adam(lr=1e-3))\n",
    "model.summary()\n",
    "\n",
    "model.fit(X_trn_mat, y_train, batch_size=2**13, epochs=2, verbose=1, validation_data=(X_val_mat, y_valid))\n",
    "preds_mlp = model.predict(X_val_mat).flatten()\n",
    "\n",
    "print('AUC score : {:.5f}'.format(roc_auc_score(y_valid, preds_mlp)))"
   ]
  }
 ],
 "metadata": {
  "kernelspec": {
   "display_name": "Python 3",
   "language": "python",
   "name": "python3"
  },
  "language_info": {
   "codemirror_mode": {
    "name": "ipython",
    "version": 3
   },
   "file_extension": ".py",
   "mimetype": "text/x-python",
   "name": "python",
   "nbconvert_exporter": "python",
   "pygments_lexer": "ipython3",
   "version": "3.7.3"
  }
 },
 "nbformat": 4,
 "nbformat_minor": 2
}
